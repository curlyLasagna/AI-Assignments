{
 "cells": [
  {
   "cell_type": "markdown",
   "id": "54ab56bc-8f67-4919-b5a4-05e7606a5bd3",
   "metadata": {},
   "source": [
    "# HW1\n",
    "## Authors:\n",
    "- Luis Gascon\n",
    "- Ethan Webb"
   ]
  },
  {
   "cell_type": "markdown",
   "id": "f59b5053-4f63-44db-94c7-faf1345a6605",
   "metadata": {},
   "source": [
    "## Importing Dependencies"
   ]
  },
  {
   "cell_type": "code",
   "execution_count": 21,
   "id": "f9b99d83-178c-477e-a088-0e46dbaaf678",
   "metadata": {},
   "outputs": [],
   "source": [
    "import numpy as np\n",
    "import os\n",
    "from numpy.linalg import norm\n",
    "\n",
    "from matplotlib import pyplot\n",
    "from mpl_toolkits.mplot3d import Axes3D\n",
    "#matplotlib inline"
   ]
  },
  {
   "cell_type": "markdown",
   "id": "65a9f84b-f435-495c-9cc8-ea43874ff18d",
   "metadata": {},
   "source": [
    "## 1. Simple Numpy Function\n",
    "This function simply returns a 5x5 identity matrix"
   ]
  },
  {
   "cell_type": "code",
   "execution_count": 78,
   "id": "c700df51-f78f-411f-a275-cf5e59578073",
   "metadata": {},
   "outputs": [
    {
     "name": "stdout",
     "output_type": "stream",
     "text": [
      "[[1. 0. 0. 0. 0.]\n",
      " [0. 1. 0. 0. 0.]\n",
      " [0. 0. 1. 0. 0.]\n",
      " [0. 0. 0. 1. 0.]\n",
      " [0. 0. 0. 0. 1.]]\n"
     ]
    }
   ],
   "source": [
    "def warmUpExercise() -> np.ndarray:\n",
    "    return np.identity(5)\n",
    "\n",
    "print(warmUpExercise())"
   ]
  },
  {
   "cell_type": "markdown",
   "id": "812161c2-4d53-4d4b-a0ae-05a6d2d25d60",
   "metadata": {},
   "source": [
    "## 2. Linear Regression With One Variable"
   ]
  },
  {
   "cell_type": "code",
   "execution_count": 64,
   "id": "6e842e7e-45b5-4d58-90e1-d2fa179e755a",
   "metadata": {},
   "outputs": [],
   "source": [
    "external_data = np.loadtxt(os.path.join('Data', 'ex1data1.txt'), delimiter=',')\n",
    "X, y = external_data[:, 0], external_data[:, 1]\n",
    "\n",
    "# Training sample size\n",
    "N = y.size"
   ]
  },
  {
   "cell_type": "markdown",
   "id": "41f838bb-e886-4dde-b989-7f4625577528",
   "metadata": {},
   "source": [
    "### 2.1 Plotting the Data\n",
    "Plot the data so that y-axis display the “profit in Profit in 10,000” and x-axis displays the “Population of City in 10,000s”"
   ]
  },
  {
   "cell_type": "code",
   "execution_count": 65,
   "id": "e278c5c6-0650-4b43-a46a-4857535c8b68",
   "metadata": {},
   "outputs": [
    {
     "data": {
      "image/png": "[encoded data removed]",
      "text/plain": [
       "<Figure size 640x480 with 1 Axes>"
      ]
     },
     "metadata": {},
     "output_type": "display_data"
    }
   ],
   "source": [
    "def plotData(x, y) -> None:\n",
    "    fig = pyplot.figure()\n",
    "    ax = fig.add_subplot(1, 1, 1)\n",
    "    ax.plot(X, y, 'ro')\n",
    "    ax.set_xlabel(\"Profit in 10,000s\")\n",
    "    ax.set_ylabel(\"Population of City in 10,000s\")\n",
    "\n",
    "plotData(X, y)"
   ]
  },
  {
   "cell_type": "markdown",
   "id": "0d3177a0-4bef-4a3f-87e7-5bc5ae4c01e5",
   "metadata": {},
   "source": [
    "## 2.2 Computing the optimal weights for the linear regression model\n",
    "\n",
    "We implement the following mathematical function as a Python function:\n",
    "$$\n",
    "\\begin{align}\n",
    "E(h) &= \\frac{1}{N}\\sum ^{N} _{n=1}(h(x_{n})-y_{n})^{2} \\\\\n",
    "&= \\frac{1}{N} \\|Xw - y\\|^{2}\n",
    "\\end{align}\n",
    "$$\n",
    "\n",
    "$E(w)$ computes the errors for our linear function"
   ]
  },
  {
   "cell_type": "code",
   "execution_count": 72,
   "id": "e9e39053-cd66-4070-a67c-a04738481565",
   "metadata": {},
   "outputs": [
    {
     "name": "stdout",
     "output_type": "stream",
     "text": [
      "With w = [0, 0] \n",
      "Error computed = 128.2909355098227\n",
      "Expected error value (approximately) 32.07\n",
      "\n",
      "With w = [-1,2] \n",
      "Error computed = 404.6529501290185\n",
      "Expected error value (approximately) 54.24\n"
     ]
    }
   ],
   "source": [
    "def computeError(X, y, w) -> float:\n",
    "    N:int = y.size\n",
    "    E:float = 0.0\n",
    "\n",
    "    # We sum the errors for each weights\n",
    "    for weight in w:\n",
    "        E += (norm(X.dot(weight) - y) ** 2) / N\n",
    "    \n",
    "    return E\n",
    "    \n",
    "print(f\"With w = [0, 0] \\nError computed = {computeError(X, y, w=np.array([0.0, 0.0]))}\")\n",
    "print(\"Expected error value (approximately) 32.07\\n\")\n",
    "\n",
    "print(f\"With w = [-1,2] \\nError computed = {computeError(X, y, w=np.array([-1, 2]))}\")\n",
    "print(\"Expected error value (approximately) 54.24\")"
   ]
  },
  {
   "cell_type": "code",
   "execution_count": null,
   "id": "9629f048-0c82-4600-beec-624cb0b03d53",
   "metadata": {},
   "outputs": [],
   "source": []
  }
 ],
 "metadata": {
  "kernelspec": {
   "display_name": "Python 3 (ipykernel)",
   "language": "python",
   "name": "python3"
  },
  "language_info": {
   "codemirror_mode": {
    "name": "ipython",
    "version": 3
   },
   "file_extension": ".py",
   "mimetype": "text/x-python",
   "name": "python",
   "nbconvert_exporter": "python",
   "pygments_lexer": "ipython3",
   "version": "3.12.1"
  }
 },
 "nbformat": 4,
 "nbformat_minor": 5
}
